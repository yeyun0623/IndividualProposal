{
 "cells": [
  {
   "cell_type": "markdown",
   "id": "5b4c8360",
   "metadata": {},
   "source": [
    "Research Question: Does the relationship status correlate with age among Canadians?\n",
    "\n",
    "Variables:\n",
    "\n",
    "Independent Variable: Relationship status(DEMO_relationship_status)\n",
    "- Visualization:  Pie chart showing the proportion of each relationship status, aiding in demographic assessment.\n",
    "\n",
    "Dependent Variable: Age(DEMO_age)\n",
    "- Visualization: Histogram to visualize age distribution, crucial for assessing data normality.\n",
    "\n",
    "Analysis(method and assumption):\n",
    "\n",
    "Method: Spearman’s rank correlation coefficient, suitable for the ordinal and potentially non-normal data of relationship status and age.\n",
    "\n",
    "Assumption:\n",
    "\n",
    "- Ordinal Nature and Non-parametric: Spearman’s correlation handles non-normal, ordinal data, ensuring that the analysis is robust against the non-metric nature of relationship status.\n",
    "\n",
    "- Independence: Assumes each data point is independent unless indicated by the study design.\n",
    "\n",
    "Hypothesis and Relevance:\n",
    "\n",
    "Hypothesis: Significant correlation exists between relationship status and age, with different statuses prevalent at different life stages.\n",
    "\n",
    "Relevance: This analysis could illuminate how relationship status and age interplay, providing valuable information for social services and policy planning tailored to demographic needs.\n"
   ]
  },
  {
   "cell_type": "markdown",
   "id": "9c5cf2c7",
   "metadata": {},
   "source": [
    "Research Question: Does Household Income Affect Educational Attainment Among Canadians?\n",
    "\n",
    "Variables:\n",
    "\n",
    "Independent Variable: Household Income(DEMO_household_income)\n",
    "- Visualization: Histogram to display the distribution of household income across the sample. This visualization is useful for understanding the economic diversity of the population, which is essential for identifying income-related trends or disparities.\n",
    "\n",
    "Dependent Variable: Educational Attainment\n",
    "- Visualization: Bar chart to show the frequency of each educational level within the dataset. This helps in assessing the overall educational landscape and identifying the most common attainment levels.\n",
    "\n",
    "Analysis(method and assumption):\n",
    "\n",
    "Method: Ordinal logistic regression, as educational attainment is an ordinal dependent variable and the relationship with income, a continuous predictor, is expected to be non-linear.\n",
    "\n",
    "Assumption:\n",
    "\n",
    "- Proportionality of Odds: Assumes that the relationship between each pair of outcome groups is the same. Checked via a test of parallel lines.\n",
    "\n",
    "- Independence of Errors: Assumes that observations are independent of each other, an important consideration in survey data. \n",
    "\n",
    "\n",
    "Hypothesis and Relevance:\n",
    "\n",
    "Hypothesis: Higher household income is associated with higher levels of educational attainment, suggesting that economic advantage facilitates greater access to higher education.\n",
    "\n",
    "Relevance: Demonstrating how income affects education underscores the need for scholarships and support for lower-income students, aiding policymakers and institutions in crafting programs to close educational gaps and enhance equity."
   ]
  },
  {
   "cell_type": "markdown",
   "id": "c3582deb",
   "metadata": {},
   "source": [
    "Research Question: Does commuting method impact job satisfaction among Canadians?\n",
    "\n",
    "Variables:\n",
    "\n",
    "Independent Variable: Commuting Method(GEO_commute_mode)\n",
    "- Visualization: Bar chart to show the distribution of commuting methods among respondents, highlighting the most common methods used.\n",
    "\n",
    "Dependent Variable: Job Satisfaction\n",
    "- Visualization: Box plots to compare job satisfaction across commuting categories, revealing median values and variability\n",
    "\n",
    "Analysis(method and assumption):\n",
    "\n",
    "Method: ANOVA for interval/ratio data to compare means, or Kruskal-Wallis for ordinal data to compare medians, depending on the scale of job satisfaction data.\n",
    "\n",
    "Assumption:\n",
    "\n",
    "Normality and homogeneity of variances checked via Shapiro-Wilk and Levene’s tests respectively. Welch’s ANOVA or Kruskal-Wallis used if assumptions are violated.\n",
    "\n",
    "Hypothesis and Relevance:\n",
    "\n",
    "Hypothesis: Active commuters (bicycle, walking) experience higher job satisfaction due to health benefits and lower stress.\n",
    "\n",
    "Relevance: Identifying how commuting affects job satisfaction can help tailor employer policies and urban planning to boost well-being and productivity, promoting more active commuting options."
   ]
  }
 ],
 "metadata": {
  "kernelspec": {
   "display_name": "Python 3 (ipykernel)",
   "language": "python",
   "name": "python3"
  },
  "language_info": {
   "codemirror_mode": {
    "name": "ipython",
    "version": 3
   },
   "file_extension": ".py",
   "mimetype": "text/x-python",
   "name": "python",
   "nbconvert_exporter": "python",
   "pygments_lexer": "ipython3",
   "version": "3.11.6"
  }
 },
 "nbformat": 4,
 "nbformat_minor": 5
}
